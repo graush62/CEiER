{
 "cells": [
  {
   "cell_type": "markdown",
   "metadata": {},
   "source": [
    "## Notas sobre Energía Eólica\n",
    "_G. Raush, MF-UPC, 2018_\n",
    "\n",
    "_**Version: Dic 31, 2018**_\n",
    "\n",
    "Las presentes notas muestran las concordancias entre la teoría de la probabilidad aplicada al análisis de vientos y las medidas realizadas sobre los histogramas de las medidas realizadas en campo.\n",
    "\n",
    "\n",
    "El presente documento está desarrollado aprovechando las oportunidades que brinda herramientas de cálculo interactivo como __[Jupyter Notebook](https://jupyter.org/)__ de código libre y que puede ser modificado para ser adaptado a cálculos de otros tipos de vientos. \n",
    "\n",
    "La presente sección es necesaria para la carga de los paquetes usados en el cálculo y las consecuentes explicaciones. También para la generación de las expresiones matemáticas simbólicas. Mayores detalles sobre los mismos se pueden  encontrar en la __[página oficial de Python](https://docs.python.org/2.7/)__."
   ]
  },
  {
   "cell_type": "code",
   "execution_count": 3,
   "metadata": {},
   "outputs": [],
   "source": [
    "# !/usr/bin/env python3\n",
    "# -*- coding: utf-8 -*-\n",
    "\n",
    "from __future__ import print_function\n",
    "from math import *\n",
    "import numpy as np\n",
    "import matplotlib.pyplot as plt\n",
    "import pandas as pd\n",
    "from scipy.special import gamma\n",
    "import sympy as sp\n",
    "from IPython.display import display\n",
    "%matplotlib inline\n",
    "sp.init_printing(use_unicode=True)"
   ]
  },
  {
   "cell_type": "markdown",
   "metadata": {},
   "source": [
    "Los vientos tienen unadistribución estadística poco común. La distribución estadística que mejor los explica es la  distribución de Weibull, más detalles en Wikipedia: __[Weibull](https://en.wikipedia.org/wiki/Weibull_distribution)__.\n",
    "\n",
    "La función de distribución de probabilidad de Weibull tiene la siguiente definición:"
   ]
  },
  {
   "cell_type": "code",
   "execution_count": 4,
   "metadata": {},
   "outputs": [
    {
     "data": {
      "image/png": "[encoded data removed]",
      "text/latex": [
       "$$\\frac{k}{c} \\left(\\frac{v}{c}\\right)^{k - 1} e^{- \\left(\\frac{v}{c}\\right)^{k}}$$"
      ],
      "text/plain": [
       "                k\n",
       "             ⎛v⎞ \n",
       "     k - 1  -⎜─⎟ \n",
       "  ⎛v⎞        ⎝c⎠ \n",
       "k⋅⎜─⎟     ⋅ℯ     \n",
       "  ⎝c⎠            \n",
       "─────────────────\n",
       "        c        "
      ]
     },
     "metadata": {},
     "output_type": "display_data"
    }
   ],
   "source": [
    "v,c,k = sp.symbols('v c k')\n",
    "pExpr =  (k/c)*(v/c)**(k-1)*sp.exp(-(v/c)**k)\n",
    "display(pExpr)"
   ]
  },
  {
   "cell_type": "markdown",
   "metadata": {},
   "source": [
    "Hay dos parámetros que la definen, uno es el parámetro de escala $c$, en $m/s$ y el otro es el parámetro adimensional de forma $k$. En ningún caso se ha de confundir $c$ con la velocidad media. \n",
    "\n",
    "Con la finalidad de poder entender como se comporta esta distribución es necesario definir la versión numérica de la misma para así poder representarla. Se han incluido dos valores por defecto para $c = 10\\,m/s$ y para $k=2$. En ambos casos se corresponden con situaciones de vientos reales y en zonas de tierra "
   ]
  },
  {
   "cell_type": "code",
   "execution_count": 5,
   "metadata": {},
   "outputs": [],
   "source": [
    "def pdfWeibull(v,c=10.,k=2.) : \n",
    "    return (k/c)*(v/c)**(k-1.)*np.exp(-(v/c)**k)"
   ]
  },
  {
   "cell_type": "code",
   "execution_count": 6,
   "metadata": {},
   "outputs": [
    {
     "data": {
      "image/png": "[encoded data removed]",
      "text/latex": [
       "$$0.0669429530201$$"
      ],
      "text/plain": [
       "0.0669429530201"
      ]
     },
     "execution_count": 6,
     "metadata": {},
     "output_type": "execute_result"
    }
   ],
   "source": [
    "c = 12.7\n",
    "k = 2.2\n",
    "pdfWeibull(12.,c=c,k=k)"
   ]
  },
  {
   "cell_type": "markdown",
   "metadata": {},
   "source": [
    "Prueba de la función con un vector de velocidad, definido de antemano."
   ]
  },
  {
   "cell_type": "code",
   "execution_count": 7,
   "metadata": {},
   "outputs": [
    {
     "data": {
      "text/plain": [
       "array([ 0.        ,  0.        ,  0.        ,  0.07664155,  0.07664155,\n",
       "        0.00205856,  0.00205856])"
      ]
     },
     "execution_count": 7,
     "metadata": {},
     "output_type": "execute_result"
    }
   ],
   "source": [
    "vArray = np.array([0,5,10,15,20,25,30])\n",
    "c = 12\n",
    "k = 2.5\n",
    "pdfWeibull(vArray,c=c,k=k)"
   ]
  },
  {
   "cell_type": "markdown",
   "metadata": {},
   "source": [
    "El siguiente lazo nos muestra la integración numérica de la distribución de Weibull donde vemos que la suma de todos los valores, integrados en el intervalo elegido, tiende a la certeza, suma igual a la unidad. Ahora el vector de velocidad se define con intervalos decrecientes. "
   ]
  },
  {
   "cell_type": "code",
   "execution_count": 8,
   "metadata": {},
   "outputs": [
    {
     "name": "stdout",
     "output_type": "stream",
     "text": [
      "0.992652459113\n",
      "0.99979747253\n",
      "0.999915148496\n"
     ]
    }
   ],
   "source": [
    "for i in [5.,1.,0.5] :\n",
    "    vArray = np.arange(0,30,i)\n",
    "    suma = np.sum(pdfWeibull(vArray,c=c,k=k))*i\n",
    "    print(suma)"
   ]
  },
  {
   "cell_type": "markdown",
   "metadata": {},
   "source": [
    "A continuación graficamos la distribución para los valores de $c$ y $k$ por defecto, 10 m/s y 2, respectivamente."
   ]
  },
  {
   "cell_type": "code",
   "execution_count": 9,
   "metadata": {},
   "outputs": [
    {
     "data": {
      "image/png": "[encoded data removed]",
      "text/plain": [
       "<matplotlib.figure.Figure at 0x7efc092b3d10>"
      ]
     },
     "metadata": {},
     "output_type": "display_data"
    }
   ],
   "source": [
    "vDelta = 0.5\n",
    "vArr = np.arange(0,40,vDelta)\n",
    "yArr = pdfWeibull(vArr)\n",
    "plt.plot(vArr,yArr)\n",
    "plt.title(r'Weibull Distribution ')\n",
    "plt.xlabel('Velocity, m/s')\n",
    "plt.ylabel('$p(v)$, s/m')\n",
    "plt.grid()\n",
    "plt.show()"
   ]
  },
  {
   "cell_type": "markdown",
   "metadata": {},
   "source": [
    "El comportamiento de $p(v)$ frente al cambio de $c$ queda reflejado en la figura siguiente."
   ]
  },
  {
   "cell_type": "code",
   "execution_count": 10,
   "metadata": {},
   "outputs": [
    {
     "data": {
      "image/png": "[encoded data removed]",
      "text/plain": [
       "<matplotlib.figure.Figure at 0x7efc06c70610>"
      ]
     },
     "metadata": {},
     "output_type": "display_data"
    }
   ],
   "source": [
    "plt.figure()\n",
    "plt.plot(vArr,pdfWeibull(vArr,c=10),'b')\n",
    "plt.plot(vArr,pdfWeibull(vArr,c=15),'g--')\n",
    "plt.plot(vArr,pdfWeibull(vArr,c=20),'r:')\n",
    "plt.xlabel('$V$, m/s')\n",
    "plt.ylabel('Hour/Year')\n",
    "plt.title('Weibull Distribution, $k = 2$')\n",
    "plt.legend(['$c = 10$' , '$c = 15$', '$c = 20$'])\n",
    "plt.grid()\n",
    "plt.show()"
   ]
  },
  {
   "cell_type": "markdown",
   "metadata": {},
   "source": [
    "Apreciamos como las distribuciones de las velocidades se uniformizan conforme aumenta el factor de escala $c$. Se debe tener presente que en todos los casos el área debajo de las curvas es la misma, y en el caso teórico es la unidad.\n",
    "\n",
    "Similar análisis sobre el parámetro de forma $k$, para un $c$ constante, nos muestra que:"
   ]
  },
  {
   "cell_type": "code",
   "execution_count": 11,
   "metadata": {},
   "outputs": [
    {
     "data": {
      "image/png": "[encoded data removed]",
      "text/plain": [
       "<matplotlib.figure.Figure at 0x7efc065d6b50>"
      ]
     },
     "metadata": {},
     "output_type": "display_data"
    }
   ],
   "source": [
    "plt.figure()\n",
    "plt.plot(vArr,pdfWeibull(vArr,k=1.8),'b')\n",
    "plt.plot(vArr,pdfWeibull(vArr,k=2),'g--')\n",
    "plt.plot(vArr,pdfWeibull(vArr,k=2.5),'r:')\n",
    "plt.plot(vArr,pdfWeibull(vArr,k=3.),'c+-')\n",
    "plt.xlabel('$V$, m/s')\n",
    "plt.ylabel('Hour/Year')\n",
    "plt.title('Weibull Distribution, $c = 10 m/s$')\n",
    "plt.legend(['$k = 1.8$' , '$k = 2$', '$k = 2.5$', '$k = 3$'])\n",
    "plt.grid()\n",
    "plt.show()"
   ]
  },
  {
   "cell_type": "markdown",
   "metadata": {},
   "source": [
    "Apreciamos que un factor de forma más alto aproxima a una distribución más simétrica, y con similitud a una distribución normal. Los valores de $k \\,\\approx\\, 3$ son los tipos de distribuciones que se encuentran en vientos marinos o de costas. Los valores, próximos a $k \\,\\approx\\, 2$, son los correspondientes a distribuciones de zonas de territorios interiores.  Para los casos de $k = 2$ existe la posibidad de usar la distribución de Rayleigh, para más detalles, __[ver aquí](https://en.wikipedia.org/wiki/Rayleigh_distribution)__."
   ]
  },
  {
   "cell_type": "markdown",
   "metadata": {},
   "source": [
    "### Cálculos de media, mediana, varianza, desviación\n",
    "\n",
    "La media es el valor más probable de la distribución y la mediana es el que tiene la mayor probabilidad, el punto de máxima $p(v)$, $\\max\\left[p(v)\\right]$.\n",
    "\n",
    "La velocidad media se define según $V_{mean}\\,=\\, \\int_{0}^{\\infty} p(v)\\,v\\, dv\\, = \\int_{0}^{\\infty} \\left[ \\frac{k}{c}\\, \\left(\\frac{v}{c}\\right)^{k - 1} e^{- \\left(\\frac{v}{c}\\right)^{k}}\\right]\\,v\\, dv$\n",
    "\n",
    "Siendo $p(v) = \\frac{k}{c} \\,\\left(\\frac{v}{c}\\right)^{k - 1} e^{- \\left(\\frac{v}{c}\\right)^{k}}$\n",
    "\n",
    "La forma discreta de esta integral, cuando se dispone del _**histograma normalizado**_ se puede según:\n",
    "\n",
    "$ v_{mean} = \\sum_{{i=0}}^{\\infty} p_i v_i $"
   ]
  },
  {
   "cell_type": "markdown",
   "metadata": {},
   "source": [
    "Más detalles sobre la definición de la  velocidad media se define como la esperanza matemática $E\\left[v\\right]$, __[ver aquí](https://en.wikipedia.org/wiki/Expected_value)__.\n"
   ]
  },
  {
   "cell_type": "markdown",
   "metadata": {},
   "source": [
    "Sin integramos la expresión de la  velocidad media para Weibull: \n",
    "\n",
    "\n",
    "$V_{mean} = c \\, \\Gamma\\left(1 + \\frac{1}{k}\\right)$\n"
   ]
  },
  {
   "cell_type": "markdown",
   "metadata": {},
   "source": [
    "De similar forma podemos obtener las expresiones de las desviaciones y la media,\n",
    "$\\sigma = \\sqrt{Var(v)} = \\sqrt{ E\\left[v^2\\right] -\\left(E\\left[v\\right]\\right)^2}$"
   ]
  },
  {
   "cell_type": "markdown",
   "metadata": {},
   "source": [
    "Integrando obtenemos la expresión de trabajo, $\\sigma = c \\, \\sqrt{\\Gamma\\left(\\frac{k+2}{k}\\right) - \\left[\\Gamma\\left(\\frac{k+1}{k}\\right)\\right]^2}$ "
   ]
  },
  {
   "cell_type": "markdown",
   "metadata": {},
   "source": [
    "El cociente entre la desviación y la media es el _índice de turbulencia_.\n",
    "\n",
    "$I = \\frac{\\sigma}{V_{mean}} = \\frac{ \\sqrt{\\Gamma\\left(\\frac{k+2}{k}\\right) - \\left[\\Gamma\\left(\\frac{k+1}{k}\\right)\\right]^2}}{\\Gamma\\left(\\frac{k+1}{k}\\right)} =  \\sqrt{\\frac{\\Gamma\\left(\\frac{k+2}{k}\\right)}{\\left[\\Gamma\\left(\\frac{k+1}{k}\\right)\\right]^2} - 1}$ "
   ]
  },
  {
   "cell_type": "markdown",
   "metadata": {},
   "source": [
    "Por último, la cantidad no menos importante es el _Factor de Energía_, $F_e$ que relaciona la potencia efectiva disponible relacionado con la potencia de la velocidad media:\n",
    "\n",
    "$F_e = \\frac{P_{eff}}{P_{mean}} = \\frac{V_{eff}^3}{V_{mean}^3} = {\\frac{\\Gamma\\left(\\frac{k+3}{k}\\right)}{\\left[\\Gamma\\left(\\frac{k+1}{k}\\right)\\right]^3}} $"
   ]
  },
  {
   "cell_type": "markdown",
   "metadata": {},
   "source": [
    "##  Ejemplo Nº1"
   ]
  },
  {
   "cell_type": "markdown",
   "metadata": {},
   "source": [
    "Para el siguiente ejemplo contamos con un histograma claseificado en intervalos de velocidad de 2.5 m/s y la frecuencia de medidas que se han tenido los valores de cada clase."
   ]
  },
  {
   "cell_type": "code",
   "execution_count": 12,
   "metadata": {
    "collapsed": true
   },
   "outputs": [],
   "source": [
    "velMeas = np.array([  0. ,   2.5,   5. ,   7.5,  10. ,  12.5,  15. ,  17.5,  20. ,\n",
    "        22.5,  25. ,  27.5,  30. ,  32.5])\n",
    "freqMeas = np.array([   0.        ,  236.85483901,  485.51685582,  640.28833191,\n",
    "        660.59298818,  564.82934492,  409.71522908,  254.88889276,\n",
    "        136.71787109,   63.38524061,   25.42475597,    8.82397346,\n",
    "          2.64857845,    0.68701123])"
   ]
  },
  {
   "cell_type": "code",
   "execution_count": 13,
   "metadata": {},
   "outputs": [
    {
     "data": {
      "image/png": "[encoded data removed]",
      "text/plain": [
       "<matplotlib.figure.Figure at 0x7efc065f30d0>"
      ]
     },
     "metadata": {},
     "output_type": "display_data"
    }
   ],
   "source": [
    "plt.bar(velMeas,freqMeas)\n",
    "plt.title('Histograma de Medidas')\n",
    "plt.xlabel('V, m/s')\n",
    "plt.ylabel('Numero Medidas')\n",
    "plt.grid()\n",
    "plt.show()"
   ]
  },
  {
   "cell_type": "markdown",
   "metadata": {},
   "source": [
    "#### Obtención del histograma normalizado\n",
    "\n",
    "Para conseguirlo, siguiendo la técnica usada en la práctica de \"Análisis Estadístico del Viento\", dividimos cada una de las cantidades medidas por el total de medidas. \n",
    "\n",
    "Total de medidas:"
   ]
  },
  {
   "cell_type": "code",
   "execution_count": 14,
   "metadata": {},
   "outputs": [
    {
     "data": {
      "image/png": "[encoded data removed]",
      "text/latex": [
       "$$3490.37391249$$"
      ],
      "text/plain": [
       "3490.37391249"
      ]
     },
     "execution_count": 14,
     "metadata": {},
     "output_type": "execute_result"
    }
   ],
   "source": [
    "totalMedidas = sum(freqMeas)\n",
    "totalMedidas"
   ]
  },
  {
   "cell_type": "code",
   "execution_count": 15,
   "metadata": {},
   "outputs": [
    {
     "data": {
      "image/png": "[encoded data removed]",
      "text/latex": [
       "$$1.0$$"
      ],
      "text/plain": [
       "1.0"
      ]
     },
     "execution_count": 15,
     "metadata": {},
     "output_type": "execute_result"
    }
   ],
   "source": [
    "freqMeasNorm = freqMeas/totalMedidas\n",
    "sum(freqMeasNorm)"
   ]
  },
  {
   "cell_type": "markdown",
   "metadata": {},
   "source": [
    "Vemos que ahora la suma es la unidad, correspondiente con la certeza a nivel de probabilidad."
   ]
  },
  {
   "cell_type": "code",
   "execution_count": 16,
   "metadata": {},
   "outputs": [
    {
     "data": {
      "image/png": "[encoded data removed]",
      "text/plain": [
       "<matplotlib.figure.Figure at 0x7efc065e8090>"
      ]
     },
     "metadata": {},
     "output_type": "display_data"
    }
   ],
   "source": [
    "plt.bar(velMeas,freqMeasNorm)\n",
    "plt.title('Histograma Normalizado de las Medidas')\n",
    "plt.xlabel('V, m/s')\n",
    "plt.ylabel('$p(v)$')\n",
    "plt.grid()\n",
    "plt.show()"
   ]
  },
  {
   "cell_type": "markdown",
   "metadata": {},
   "source": [
    "Si aplicáramos el método de la práctica, llegaríamos a que los valores de modelo estadístico para este caso serían aproximadamente , $c \\approx 12.0\\, m/s$ y $k \\approx  2.3$\n",
    "Con la finalidad de conocer lo bien o mal que ajusta al modelo de la medida, graficaremos en forma conjunta las medidas y el modelo. Para ello, debemos crear los datos del modelo y lo haremos usando un vector de velocidades con incrementos de 1 m/s."
   ]
  },
  {
   "cell_type": "code",
   "execution_count": 17,
   "metadata": {},
   "outputs": [
    {
     "data": {
      "image/png": "[encoded data removed]",
      "text/latex": [
       "$$0.999658953539$$"
      ],
      "text/plain": [
       "0.999658953539"
      ]
     },
     "execution_count": 17,
     "metadata": {},
     "output_type": "execute_result"
    }
   ],
   "source": [
    "vArrayWeib = np.arange(0,35.,1.)\n",
    "c = 12.0\n",
    "k = 2.3\n",
    "pArrayWeib = pdfWeibull(vArrayWeib,c=c,k=k)\n",
    "pArrayWeib.sum()"
   ]
  },
  {
   "cell_type": "markdown",
   "metadata": {},
   "source": [
    "Verificamos el valor del área (integral) de la distribución de probabilidad. "
   ]
  },
  {
   "cell_type": "code",
   "execution_count": 18,
   "metadata": {},
   "outputs": [
    {
     "data": {
      "image/png": "[encoded data removed]",
      "text/plain": [
       "<matplotlib.figure.Figure at 0x7efc06668910>"
      ]
     },
     "metadata": {},
     "output_type": "display_data"
    }
   ],
   "source": [
    "plt.figure()\n",
    "plt.plot(vArrayWeib,pArrayWeib*2.5,'r')\n",
    "plt.bar(velMeas,freqMeasNorm)\n",
    "plt.title('Histo Norm y Weibull')\n",
    "plt.xlabel('V, m/s')\n",
    "plt.ylabel('$p(v)$')\n",
    "plt.grid()\n",
    "plt.show()\n"
   ]
  },
  {
   "cell_type": "markdown",
   "metadata": {},
   "source": [
    "### Cálculo de las velocidades medias, histograma y Weibull"
   ]
  },
  {
   "cell_type": "markdown",
   "metadata": {},
   "source": [
    "Para el caso del histograma sumaremos los productos de la velocidad por la frecuencia normalizada y para el caso de Weibull ocuparemos las expresiones de $\\Gamma\\left(\\cdot\\right)$\n",
    "\n",
    "También definiremos una función de medida del error comentido, $Err = \\frac{V_{m} - V_{e}}{V_{e}}$"
   ]
  },
  {
   "cell_type": "code",
   "execution_count": 19,
   "metadata": {
    "collapsed": true
   },
   "outputs": [],
   "source": [
    "def errRel(x,y):\n",
    "    return (y-x)/x"
   ]
  },
  {
   "cell_type": "code",
   "execution_count": 20,
   "metadata": {},
   "outputs": [
    {
     "data": {
      "image/png": "[encoded data removed]",
      "text/latex": [
       "$$10.6679267825$$"
      ],
      "text/plain": [
       "10.6679267825"
      ]
     },
     "execution_count": 20,
     "metadata": {},
     "output_type": "execute_result"
    }
   ],
   "source": [
    "vMeanHisto = sum(velMeas*freqMeasNorm)\n",
    "vMeanHisto "
   ]
  },
  {
   "cell_type": "code",
   "execution_count": 21,
   "metadata": {},
   "outputs": [
    {
     "data": {
      "image/png": "[encoded data removed]",
      "text/latex": [
       "$$10.630976452$$"
      ],
      "text/plain": [
       "10.630976452"
      ]
     },
     "execution_count": 21,
     "metadata": {},
     "output_type": "execute_result"
    }
   ],
   "source": [
    "vMeanWeib = c*gamma(1+1/k)\n",
    "vMeanWeib"
   ]
  },
  {
   "cell_type": "markdown",
   "metadata": {},
   "source": [
    "La medida del error entre ambos valores es:"
   ]
  },
  {
   "cell_type": "code",
   "execution_count": 22,
   "metadata": {},
   "outputs": [
    {
     "data": {
      "image/png": "[encoded data removed]",
      "text/latex": [
       "$$0.347572310954$$"
      ],
      "text/plain": [
       "0.347572310954"
      ]
     },
     "execution_count": 22,
     "metadata": {},
     "output_type": "execute_result"
    }
   ],
   "source": [
    "errRel(vMeanWeib,vMeanHisto)*100"
   ]
  },
  {
   "cell_type": "markdown",
   "metadata": {},
   "source": [
    "Vemos que el error comentido es de un 1%, aproximadamente."
   ]
  },
  {
   "cell_type": "markdown",
   "metadata": {},
   "source": [
    "### Cálculo de la densidad de potencia, media y eficaz\n",
    "\n",
    "Las valoraciones se harán sobre la unidad de área. A los efectos de cálculo no afecta el área del rotor ya que la misma área se aplica para ambos casos. Se considerará una condición de densidad de aire de _Condiciones Normales de Presión y Temperatura_, **$P_{atm} = 760\\, mmHg$** y **$t_{amb} = 15^{o}C$**, $\\rho = 1.225\\,kg/m³$"
   ]
  },
  {
   "cell_type": "markdown",
   "metadata": {},
   "source": [
    "La potencia disponible por unidad de área, o densidad de potencia, también está afectada por la probabilidad $p(v,c,k)$ de la existencia de la $v$. Para el caso de la definoción de función contínua, $P_{aval} =   \\int_{0}^{\\infty} \\, \\frac{1}{2} \\, \\rho\\,p(v,c,k) \\, v^{3} \\, dv$ \n",
    "La definición de la forma discreta es: $P_{avail} = \\sum_{i=0}^{N} \\frac{1}{2} \\, \\rho\\,p_{i} \\, v_{i}^{3}$. Siendo $N$ el número total de clases de medidas de velocidad. En el caso del Ejemplo, $N=14$.\n",
    "\n",
    "La potencia por unidad de área es:"
   ]
  },
  {
   "cell_type": "code",
   "execution_count": 23,
   "metadata": {},
   "outputs": [
    {
     "data": {
      "image/png": "[encoded data removed]",
      "text/latex": [
       "$$1287.81969803$$"
      ],
      "text/plain": [
       "1287.81969803"
      ]
     },
     "execution_count": 23,
     "metadata": {},
     "output_type": "execute_result"
    }
   ],
   "source": [
    "rhoNum = 1.225\n",
    "PowerAvail = sum(0.5*rhoNum*freqMeasNorm*velMeas**3)\n",
    "PowerAvail"
   ]
  },
  {
   "cell_type": "markdown",
   "metadata": {},
   "source": [
    "La potencia correspondiente al valor de la velocidad media $V_{mean}$ es:"
   ]
  },
  {
   "cell_type": "code",
   "execution_count": 24,
   "metadata": {},
   "outputs": [
    {
     "data": {
      "image/png": "[encoded data removed]",
      "text/latex": [
       "$$743.611627498$$"
      ],
      "text/plain": [
       "743.611627498"
      ]
     },
     "execution_count": 24,
     "metadata": {},
     "output_type": "execute_result"
    }
   ],
   "source": [
    "PowerMean = 0.5*rhoNum*vMeanHisto**3\n",
    "PowerMean"
   ]
  },
  {
   "cell_type": "markdown",
   "metadata": {},
   "source": [
    "Factor de energía viene definido entre la potencia disponible y la correspndiente a la velocidad media $F_e = \\frac{Pow_{Avail}}{Pow_{Mean}}$"
   ]
  },
  {
   "cell_type": "code",
   "execution_count": 25,
   "metadata": {},
   "outputs": [
    {
     "data": {
      "image/png": "[encoded data removed]",
      "text/latex": [
       "$$1.73184448764$$"
      ],
      "text/plain": [
       "1.73184448764"
      ]
     },
     "execution_count": 25,
     "metadata": {},
     "output_type": "execute_result"
    }
   ],
   "source": [
    "Fe = PowerAvail/PowerMean\n",
    "Fe"
   ]
  },
  {
   "cell_type": "markdown",
   "metadata": {},
   "source": [
    "Calculado desde las funciones dependientes de $\\Gamma$, definido por el cociente de $F_{e} = \\frac{\\Gamma\\left(1+\\frac{3}{k}\\right)}{\\Gamma\\left(1+\\frac{1}{k}\\right){3}}$"
   ]
  },
  {
   "cell_type": "code",
   "execution_count": 26,
   "metadata": {},
   "outputs": [
    {
     "data": {
      "image/png": "[encoded data removed]",
      "text/latex": [
       "$$1.68237630045$$"
      ],
      "text/plain": [
       "1.68237630045"
      ]
     },
     "execution_count": 26,
     "metadata": {},
     "output_type": "execute_result"
    }
   ],
   "source": [
    "FeWeib = gamma(1+3/k)/gamma(1+1/k)**3\n",
    "FeWeib"
   ]
  },
  {
   "cell_type": "markdown",
   "metadata": {},
   "source": [
    "De nuevo se tiene un error inferior al 1%:"
   ]
  },
  {
   "cell_type": "code",
   "execution_count": 27,
   "metadata": {},
   "outputs": [
    {
     "data": {
      "image/png": "[encoded data removed]",
      "text/latex": [
       "$$-2.85638736845$$"
      ],
      "text/plain": [
       "-2.85638736845"
      ]
     },
     "execution_count": 27,
     "metadata": {},
     "output_type": "execute_result"
    }
   ],
   "source": [
    "errRel(Fe,FeWeib)*100"
   ]
  },
  {
   "cell_type": "markdown",
   "metadata": {},
   "source": [
    "De la mismas forma como ya se hace en sistemas eléctricos, cuando la fuente de energía es variable, es conveniente definir un valor eficaz de la magnitud responsable de la misma. De esta manera se puede definir un valor de la velocidad eficaz o RMS, $V_{RMS}$. \n",
    "El valor de la misma queda definida como $V_{RMS} = \\sqrt[3]{\\int_{0}^{\\infty}\\frac{1}{2}\\, p(v,c,k)\\,v^3\\,dv}$"
   ]
  },
  {
   "cell_type": "markdown",
   "metadata": {},
   "source": [
    "Desde el histograma, la definición discreta de la misma queda : $V_{RMS}\\,=\\,\\sqrt[3]{\\sum_{i=0}^{N}\\,p_{i}\\,v_{i}^3}$"
   ]
  },
  {
   "cell_type": "code",
   "execution_count": 28,
   "metadata": {},
   "outputs": [
    {
     "data": {
      "image/png": "[encoded data removed]",
      "text/latex": [
       "$$12.8109987907$$"
      ],
      "text/plain": [
       "12.8109987907"
      ]
     },
     "execution_count": 28,
     "metadata": {},
     "output_type": "execute_result"
    }
   ],
   "source": [
    "vRMS = (sum(freqMeasNorm*velMeas**3))**(1./3.)\n",
    "vRMS"
   ]
  },
  {
   "cell_type": "markdown",
   "metadata": {},
   "source": [
    "Si ahora consideramos un viento de velocidad constante igual a $V_{rms}$, la densidad de  potencia disponible será:"
   ]
  },
  {
   "cell_type": "code",
   "execution_count": 29,
   "metadata": {},
   "outputs": [
    {
     "data": {
      "image/png": "[encoded data removed]",
      "text/latex": [
       "$$1287.81969803$$"
      ],
      "text/plain": [
       "1287.81969803"
      ]
     },
     "execution_count": 29,
     "metadata": {},
     "output_type": "execute_result"
    }
   ],
   "source": [
    "0.5*rhoNum*vRMS**3"
   ]
  },
  {
   "cell_type": "markdown",
   "metadata": {},
   "source": [
    "De aquí la importancia del $F_e$ ya que del mismo obtenemos el valor de $V_{RMS}$ a partir de la $V_{mean}$ y los parámetros de Weibull. $F_e= \\frac{V_{rms}^3}{V_{mean}^3}$"
   ]
  },
  {
   "cell_type": "markdown",
   "metadata": {},
   "source": [
    "La ventaja de usar el $F_e$ a partir del modelo, permite hacerla estimación de la potencia disponible directamente, sin pasar por los cálculos de histograma. El siguiente ejemplo lo muestra, para los valores de $c = 9.5\\, m/s$ y $k = 1.8$:  "
   ]
  },
  {
   "cell_type": "code",
   "execution_count": 30,
   "metadata": {},
   "outputs": [
    {
     "name": "stdout",
     "output_type": "stream",
     "text": [
      "Vmean = 10.67 m/s\n",
      "Fe = 2.14\n",
      "PowerMean = 744.35 W\n",
      "PowerAvail = 1592.44 W\n"
     ]
    }
   ],
   "source": [
    "c2 = 9.5 \n",
    "k2 = 1.8\n",
    "vMean2 = c*gamma(1+1/k2)\n",
    "Fe2 = gamma(1+3/k2)/gamma(1+1/k2)**3\n",
    "PowerMean2 = 0.5*rhoNum*vMean2**3\n",
    "PowerAvail2 = Fe2*PowerMean2\n",
    "print('Vmean = %.2f m/s\\nFe = %.2f\\nPowerMean = %.2f W\\nPowerAvail = %.2f W' % (vMean2,Fe2,PowerMean2,PowerAvail2))"
   ]
  },
  {
   "cell_type": "markdown",
   "metadata": {
    "collapsed": true
   },
   "source": [
    "La energía disponible $E_{avail}= 8760\\cdot\\,P_{avail}$, pero en el eje de turbina solo llega el $E_{util}\\,=\\,C_p\\,\\cdot\\,E_{avail}$"
   ]
  },
  {
   "cell_type": "markdown",
   "metadata": {},
   "source": [
    "Energía generada, asumiendo un $C_p\\,=\\,0.4$."
   ]
  },
  {
   "cell_type": "code",
   "execution_count": 31,
   "metadata": {},
   "outputs": [
    {
     "name": "stdout",
     "output_type": "stream",
     "text": [
      "Energía Disponible = 13950 kWh\n",
      "Energía Disponible = 5580 kWh\n"
     ]
    }
   ],
   "source": [
    "Cp = 0.4\n",
    "EnergiaDisponible = (365*24)*PowerAvail2/1000.\n",
    "EnergiaUtil = 8760*Cp*PowerAvail2/1000.\n",
    "print('Energía Disponible = %.0f kWh\\nEnergía Disponible = %.0f kWh' % (EnergiaDisponible, EnergiaUtil))\n"
   ]
  },
  {
   "cell_type": "markdown",
   "metadata": {},
   "source": [
    "Esta última es la que se puede mandar a eje de generador eléctrico."
   ]
  },
  {
   "cell_type": "markdown",
   "metadata": {},
   "source": [
    "Pero se ha de tener presente que el coeficiente de potencia $C_p$ no se mantiene constante en todas las velocidades del viento. En las máquinas reales es variable."
   ]
  },
  {
   "cell_type": "markdown",
   "metadata": {
    "collapsed": true
   },
   "source": [
    "Por último podemos graficar la densidad de potencia disponible en función de la velocidad del viento. Para conseguirlo tenemos que crear unos vectores para la potencia de cada una de las frecuencias de velocidad del histograma. "
   ]
  },
  {
   "cell_type": "code",
   "execution_count": 32,
   "metadata": {},
   "outputs": [],
   "source": [
    "powHisto = 0.5*rhoNum*freqMeasNorm*velMeas**3"
   ]
  },
  {
   "cell_type": "code",
   "execution_count": 35,
   "metadata": {},
   "outputs": [
    {
     "data": {
      "image/png": "[encoded data removed]",
      "text/plain": [
       "<matplotlib.figure.Figure at 0x7efc0618b810>"
      ]
     },
     "metadata": {},
     "output_type": "display_data"
    }
   ],
   "source": [
    "plt.figure()\n",
    "plt.plot(velMeas,powHisto,'b')\n",
    "plt.title('Densidad de Potencia Disponible del Viento')\n",
    "plt.xlabel('V, m/s')\n",
    "plt.ylabel('$Pow_{avail}$, W')\n",
    "plt.grid()\n",
    "plt.show()"
   ]
  },
  {
   "cell_type": "code",
   "execution_count": null,
   "metadata": {
    "collapsed": true
   },
   "outputs": [],
   "source": []
  }
 ],
 "metadata": {
  "kernelspec": {
   "display_name": "Python 3",
   "language": "python",
   "name": "python3"
  },
  "language_info": {
   "codemirror_mode": {
    "name": "ipython",
    "version": 3
   },
   "file_extension": ".py",
   "mimetype": "text/x-python",
   "name": "python",
   "nbconvert_exporter": "python",
   "pygments_lexer": "ipython3",
   "version": "3.7.1"
  }
 },
 "nbformat": 4,
 "nbformat_minor": 2
}
